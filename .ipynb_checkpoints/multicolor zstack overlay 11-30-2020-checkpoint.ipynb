{
 "cells": [
  {
   "cell_type": "code",
   "execution_count": 1,
   "metadata": {},
   "outputs": [],
   "source": [
    "#keyence in single field zstack multicolor capture mode \n",
    "#yields an overlay and 4 single channel tif files (CH1,CH2,CH3,CH4 AS BGRW)\n",
    "#for each z position \n",
    "#example:\n",
    "#B-DAPI G-PCAD R-RFP W-A6_20X (good exposure)_Z001_CH1.tif\n",
    "#B-DAPI G-PCAD R-RFP W-A6_20X (good exposure)_Z001_CH2.tif\n",
    "#B-DAPI G-PCAD R-RFP W-A6_20X (good exposure)_Z001_CH3.tif\n",
    "#B-DAPI G-PCAD R-RFP W-A6_20X (good exposure)_Z001_CH4.tif\n",
    "#B-DAPI G-PCAD R-RFP W-A6_20X (good exposure)_Z001_Overlay.tif\n",
    "\n",
    "#problem is the 4th color is white which contaminates other channels\n",
    "#only psuedocolors used should be RGB\n",
    "#this script should take a folder with these images and \n",
    "# (1) make 3 color overlays (excluding one color)\n",
    "# (2) stack the 3 color overlays and save as tif"
   ]
  },
  {
   "cell_type": "code",
   "execution_count": 2,
   "metadata": {},
   "outputs": [],
   "source": [
    "import os\n",
    "import re\n",
    "from skimage import exposure\n",
    "import numpy as np\n",
    "from skimage import io"
   ]
  },
  {
   "cell_type": "code",
   "execution_count": 3,
   "metadata": {},
   "outputs": [],
   "source": [
    "proc_folder = \"/Users/wesleywong/single-field-zstack/Example single zstack 4 colors AAVphps-CAG-RFP_20X_02/\"\n",
    "#remember keyence goes by B (CH1), G (CH2), R (CH3), W (CH4)\n",
    "channels = {\n",
    "            'R':'CH3',\n",
    "            'G':'CH4',\n",
    "            'B':'CH1'\n",
    "            }"
   ]
  },
  {
   "cell_type": "code",
   "execution_count": 4,
   "metadata": {},
   "outputs": [],
   "source": [
    "#get all the single channel tifs\n",
    "only_tifs = re.compile(r'.*CH.[.]tif')\n",
    "\n",
    "tifs_no_overlays = []\n",
    "for file in os.listdir(proc_folder):\n",
    "    if re.match(only_tifs,file):\n",
    "        tifs_no_overlays.append(file)"
   ]
  },
  {
   "cell_type": "code",
   "execution_count": 5,
   "metadata": {},
   "outputs": [],
   "source": [
    "#find all the z-positions\n",
    "zpos = re.compile(r'Z\\d\\d\\d')\n",
    "unique_z_pos = []\n",
    "for file in tifs_no_overlays:\n",
    "    unique_z_pos.append(re.search(zpos,file).group(0))\n",
    "    "
   ]
  },
  {
   "cell_type": "code",
   "execution_count": 6,
   "metadata": {},
   "outputs": [],
   "source": [
    "#get image family base name\n",
    "image_family_name = re.compile(r'^.*Z')\n",
    "base_name = re.search(image_family_name, tifs_no_overlays[0]).group(0)[:-1]"
   ]
  },
  {
   "cell_type": "code",
   "execution_count": 7,
   "metadata": {},
   "outputs": [],
   "source": [
    "#make list of image files to work on and pair them up into RGB pairs by z-position\n",
    "worklist = []\n",
    "for z in unique_z_pos:\n",
    "    r = proc_folder+base_name+z+'_'+channels['R']+'.tif'\n",
    "    g = proc_folder+base_name+z+'_'+channels['G']+'.tif'\n",
    "    b = proc_folder+base_name+z+'_'+channels['B']+'.tif'\n",
    "    worklist.append([r,g,b])"
   ]
  },
  {
   "cell_type": "code",
   "execution_count": 8,
   "metadata": {},
   "outputs": [
    {
     "name": "stderr",
     "output_type": "stream",
     "text": [
      "/opt/anaconda3/lib/python3.7/site-packages/skimage/external/tifffile/tifffile.py:2618: RuntimeWarning: py_decodelzw encountered unexpected end of stream\n",
      "  strip = decompress(strip)\n"
     ]
    },
    {
     "name": "stdout",
     "output_type": "stream",
     "text": [
      "Saved /Users/wesleywong/single-field-zstack/Example single zstack 4 colors AAVphps-CAG-RFP_20X_02/B-DAPI G-PCAD R-RFP W-A6_20X (good exposure)_overlay.tif to /Users/wesleywong/single-field-zstack/Example single zstack 4 colors AAVphps-CAG-RFP_20X_02/\n"
     ]
    }
   ],
   "source": [
    "#work through the list and overlay them; white channel images are already 8-bit but other channels are 3-color layers\n",
    "#for some reason hence all the extra logic\n",
    "\n",
    "for item in worklist:\n",
    "    r_layers = []\n",
    "    g_layers = []\n",
    "    b_layers = []\n",
    "    r = io.imread(item[0])\n",
    "    g = io.imread(item[1])\n",
    "    b = io.imread(item[2])\n",
    "    try:\n",
    "        if np.average(r[:,:,0])>0: #if R multilayered\n",
    "            r = r[:,:,0]\n",
    "        elif np.average(r[:,:,1])>0:\n",
    "            r = r[:,:,1]\n",
    "        elif np.average(r[:,:,2])>0:\n",
    "            r = r[:,:,2]\n",
    "    except:\n",
    "        r = r[:,:]\n",
    "        \n",
    "    try:\n",
    "        if np.average(g[:,:,0])>0: #if R multilayered\n",
    "            g = g[:,:,0]\n",
    "        elif np.average(g[:,:,1])>0:\n",
    "            g = g[:,:,1]\n",
    "        elif np.average(g[:,:,2])>0:\n",
    "            g = g[:,:,2]\n",
    "    except:\n",
    "        g = g[:,:]\n",
    "        \n",
    "    try:\n",
    "        if np.average(b[:,:,0])>0: #if R multilayered\n",
    "            b = b[:,:,0]\n",
    "        elif np.average(b[:,:,1])>0:\n",
    "            b = b[:,:,1]\n",
    "        elif np.average(b[:,:,2])>0:\n",
    "            b = b[:,:,2]\n",
    "    except:\n",
    "        b = b[:,:]\n",
    "    r_layers.append(r)\n",
    "    g_layers.append(g)\n",
    "    b_layers.append(b)\n",
    "    r_mip = np.max(r_layers,axis=0)\n",
    "    g_mip = np.max(g_layers,axis=0)\n",
    "    b_mip = np.max(b_layers,axis=0)\n",
    "    overlay = np.dstack([r_mip,g_mip,b_mip])\n",
    "    \n",
    "    ##code below for CLAHE but it doesn't look as good as the one in ImageJ\n",
    "    #clahe_overlay = exposure.equalize_adapthist(overlay)\n",
    "    #RESCALE FLOAT64 TO UINT8\n",
    "    #data = clahe_overlay.astype(np.float64) / 1 # normalize the data to 0 - 1\n",
    "    #data = 255 * data # Now scale by 255\n",
    "    #clahe_overlay = data.astype(np.uint8)\n",
    "    #io.imshow(clahe_overlay)\n",
    "    \n",
    "    fname_base = re.search(image_family_name, item[0]).group(0)[:-1]\n",
    "    io.imsave(fname_base+'overlay.tif',overlay)\n",
    "    #io.imsave(fname_base+'CLAHE overlay.tif',clahe_overlay)\n",
    "print('SAVED: %s\\n\\nTO: %s' % (base_name+'overlay.tif', proc_folder))\n",
    "    "
   ]
  }
 ],
 "metadata": {
  "kernelspec": {
   "display_name": "Python 3",
   "language": "python",
   "name": "python3"
  },
  "language_info": {
   "codemirror_mode": {
    "name": "ipython",
    "version": 3
   },
   "file_extension": ".py",
   "mimetype": "text/x-python",
   "name": "python",
   "nbconvert_exporter": "python",
   "pygments_lexer": "ipython3",
   "version": "3.7.6"
  }
 },
 "nbformat": 4,
 "nbformat_minor": 4
}
